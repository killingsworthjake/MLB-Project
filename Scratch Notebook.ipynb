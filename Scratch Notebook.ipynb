{
 "cells": [
  {
   "cell_type": "markdown",
   "id": "e2ebbcb6",
   "metadata": {},
   "source": [
    "### Learning How to Use \"mlbgame\" "
   ]
  },
  {
   "cell_type": "code",
   "execution_count": 1,
   "id": "87a8dace",
   "metadata": {},
   "outputs": [],
   "source": [
    "import mlbgame"
   ]
  },
  {
   "cell_type": "markdown",
   "id": "4648a983",
   "metadata": {},
   "source": [
    "Find the scores of all home Mets games for the month of June, 2015:"
   ]
  },
  {
   "cell_type": "code",
   "execution_count": 2,
   "id": "c9942959",
   "metadata": {},
   "outputs": [],
   "source": [
    "month = mlbgame.games(2015, 6, home='Mets')\n",
    "games = mlbgame.combine_games(month)"
   ]
  },
  {
   "cell_type": "code",
   "execution_count": 5,
   "id": "78b56e17",
   "metadata": {},
   "outputs": [
    {
     "name": "stdout",
     "output_type": "stream",
     "text": [
      "Giants (5) at Mets (0)\n",
      "Giants (8) at Mets (5)\n",
      "Giants (4) at Mets (5)\n",
      "Braves (3) at Mets (5)\n",
      "Braves (5) at Mets (3)\n",
      "Braves (8) at Mets (10)\n",
      "Blue Jays (3) at Mets (4)\n",
      "Blue Jays (2) at Mets (3)\n",
      "Reds (1) at Mets (2)\n",
      "Reds (1) at Mets (2)\n",
      "Reds (2) at Mets (7)\n",
      "Reds (1) at Mets (2)\n",
      "Cubs (1) at Mets (0)\n"
     ]
    }
   ],
   "source": [
    "for game in games:\n",
    "    print(game)"
   ]
  },
  {
   "cell_type": "markdown",
   "id": "271c24ba",
   "metadata": {},
   "source": [
    "Pitchers for the Royals game on April 30th, 2015:"
   ]
  },
  {
   "cell_type": "code",
   "execution_count": 8,
   "id": "68f1c124",
   "metadata": {},
   "outputs": [
    {
     "name": "stdout",
     "output_type": "stream",
     "text": [
      "Winning pitcher: Yordano Ventura (Royals) - Losing Pitcher: C.J. Wilson (Angels)\n"
     ]
    }
   ],
   "source": [
    "day = mlbgame.day(2015, 4, 12, home='Royals', away='Royals')\n",
    "game = day[0]\n",
    "output = 'Winning pitcher: %s (%s) - Losing Pitcher: %s (%s)'\n",
    "print(output % (game.w_pitcher, game.w_team, game.l_pitcher, game.l_team))"
   ]
  },
  {
   "cell_type": "code",
   "execution_count": null,
   "id": "737a65d4",
   "metadata": {},
   "outputs": [],
   "source": []
  }
 ],
 "metadata": {
  "kernelspec": {
   "display_name": "Python 3",
   "language": "python",
   "name": "python3"
  },
  "language_info": {
   "codemirror_mode": {
    "name": "ipython",
    "version": 3
   },
   "file_extension": ".py",
   "mimetype": "text/x-python",
   "name": "python",
   "nbconvert_exporter": "python",
   "pygments_lexer": "ipython3",
   "version": "3.8.5"
  }
 },
 "nbformat": 4,
 "nbformat_minor": 5
}
